{
 "cells": [
  {
   "cell_type": "markdown",
   "metadata": {},
   "source": [
    "# Task 3: Driving the robot"
   ]
  },
  {
   "cell_type": "markdown",
   "metadata": {},
   "source": [
    "In this notebook, you will take your first steps towards driving around the physical robot. It introduces the robots *move* function and shows how it controls the robot's movement. \n",
    "\n",
    "**NOTE: This notebook has to be run on the robot!**"
   ]
  },
  {
   "cell_type": "markdown",
   "metadata": {},
   "source": [
    "## Imports"
   ]
  },
  {
   "cell_type": "code",
   "execution_count": 1,
   "metadata": {},
   "outputs": [],
   "source": [
    "import numpy as np\n",
    "from timeit import default_timer as timer\n",
    "\n",
    "import sys\n",
    "import os\n",
    "sys.path.insert(1, os.path.join(os.getcwd(), '..'))\n",
    "from utils.utils import load_config\n",
    "from utils.robot_controller import RobotController"
   ]
  },
  {
   "cell_type": "markdown",
   "metadata": {},
   "source": [
    "# Setup"
   ]
  },
  {
   "cell_type": "markdown",
   "metadata": {},
   "source": [
    "We start by loading the config file for the robot, instantiating the robot controller and connecting it to the physical robot by calling the *\\_\\_enter\\_\\_* function. When you start the main.py script on the robot, *\\_\\_enter\\_\\_*() is called automatically, in the notebook, we have to call it separately. The robot will also only disconnect, once we stop the notebok's kernel."
   ]
  },
  {
   "cell_type": "code",
   "execution_count": 2,
   "metadata": {
    "scrolled": true
   },
   "outputs": [
    {
     "data": {
      "text/html": [
       "<pre style=\"white-space:pre;overflow-x:auto;line-height:normal;font-family:Menlo,'DejaVu Sans Mono',consolas,'Courier New',monospace\">config:\n",
       "<span style=\"font-weight: bold\">{</span>\n",
       "    <span style=\"color: #008000; text-decoration-color: #008000\">'robot'</span>: <span style=\"font-weight: bold\">{</span><span style=\"color: #008000; text-decoration-color: #008000\">'wheel_radius'</span>: <span style=\"color: #008080; text-decoration-color: #008080; font-weight: bold\">0.027216</span>, <span style=\"color: #008000; text-decoration-color: #008000\">'width'</span>: <span style=\"color: #008080; text-decoration-color: #008080; font-weight: bold\">0.2</span>, <span style=\"color: #008000; text-decoration-color: #008000\">'delta_t'</span>: <span style=\"color: #008080; text-decoration-color: #008080; font-weight: bold\">0.1</span><span style=\"font-weight: bold\">}</span>,\n",
       "    <span style=\"color: #008000; text-decoration-color: #008000\">'camera'</span>: <span style=\"font-weight: bold\">{</span><span style=\"color: #008000; text-decoration-color: #008000\">'y_offset'</span>: <span style=\"color: #008080; text-decoration-color: #008080; font-weight: bold\">0</span>, <span style=\"color: #008000; text-decoration-color: #008000\">'z_offset'</span>: <span style=\"color: #008080; text-decoration-color: #008080; font-weight: bold\">0</span>, <span style=\"color: #008000; text-decoration-color: #008000\">'y_angle'</span>: <span style=\"color: #008080; text-decoration-color: #008080; font-weight: bold\">0</span>, <span style=\"color: #008000; text-decoration-color: #008000\">'exposure_time'</span>: <span style=\"color: #008080; text-decoration-color: #008080; font-weight: bold\">60</span>, <span style=\"color: #008000; text-decoration-color: #008000\">'gain'</span>: <span style=\"color: #008080; text-decoration-color: #008080; font-weight: bold\">100</span><span style=\"font-weight: bold\">}</span>,\n",
       "    <span style=\"color: #008000; text-decoration-color: #008000\">'ekf_slam'</span>: <span style=\"font-weight: bold\">{</span><span style=\"color: #008000; text-decoration-color: #008000\">'robot_width'</span>: <span style=\"color: #008080; text-decoration-color: #008080; font-weight: bold\">0.2</span>, <span style=\"color: #008000; text-decoration-color: #008000\">'motor_std'</span>: <span style=\"color: #008080; text-decoration-color: #008080; font-weight: bold\">4</span>, <span style=\"color: #008000; text-decoration-color: #008000\">'dist_std'</span>: <span style=\"color: #008080; text-decoration-color: #008080; font-weight: bold\">0.1</span>, <span style=\"color: #008000; text-decoration-color: #008000\">'angle_std'</span>: <span style=\"color: #008080; text-decoration-color: #008080; font-weight: bold\">4</span><span style=\"font-weight: bold\">}</span>\n",
       "<span style=\"font-weight: bold\">}</span>\n",
       "</pre>\n"
      ],
      "text/plain": [
       "config:\n",
       "\u001b[1m{\u001b[0m\n",
       "    \u001b[32m'robot'\u001b[0m: \u001b[1m{\u001b[0m\u001b[32m'wheel_radius'\u001b[0m: \u001b[1;36m0.027216\u001b[0m, \u001b[32m'width'\u001b[0m: \u001b[1;36m0.2\u001b[0m, \u001b[32m'delta_t'\u001b[0m: \u001b[1;36m0.1\u001b[0m\u001b[1m}\u001b[0m,\n",
       "    \u001b[32m'camera'\u001b[0m: \u001b[1m{\u001b[0m\u001b[32m'y_offset'\u001b[0m: \u001b[1;36m0\u001b[0m, \u001b[32m'z_offset'\u001b[0m: \u001b[1;36m0\u001b[0m, \u001b[32m'y_angle'\u001b[0m: \u001b[1;36m0\u001b[0m, \u001b[32m'exposure_time'\u001b[0m: \u001b[1;36m60\u001b[0m, \u001b[32m'gain'\u001b[0m: \u001b[1;36m100\u001b[0m\u001b[1m}\u001b[0m,\n",
       "    \u001b[32m'ekf_slam'\u001b[0m: \u001b[1m{\u001b[0m\u001b[32m'robot_width'\u001b[0m: \u001b[1;36m0.2\u001b[0m, \u001b[32m'motor_std'\u001b[0m: \u001b[1;36m4\u001b[0m, \u001b[32m'dist_std'\u001b[0m: \u001b[1;36m0.1\u001b[0m, \u001b[32m'angle_std'\u001b[0m: \u001b[1;36m4\u001b[0m\u001b[1m}\u001b[0m\n",
       "\u001b[1m}\u001b[0m\n"
      ]
     },
     "metadata": {},
     "output_type": "display_data"
    },
    {
     "data": {
      "text/html": [
       "<pre style=\"white-space:pre;overflow-x:auto;line-height:normal;font-family:Menlo,'DejaVu Sans Mono',consolas,'Courier New',monospace\"><span style=\"color: #800000; text-decoration-color: #800000\"> cam_fps </span><span style=\"color: #800000; text-decoration-color: #800000; font-weight: bold\">2</span>\n",
       "</pre>\n"
      ],
      "text/plain": [
       "\u001b[31m cam_fps \u001b[0m\u001b[1;31m2\u001b[0m\n"
      ]
     },
     "metadata": {},
     "output_type": "display_data"
    },
    {
     "data": {
      "text/html": [
       "<pre style=\"white-space:pre;overflow-x:auto;line-height:normal;font-family:Menlo,'DejaVu Sans Mono',consolas,'Courier New',monospace\"><span style=\"color: #008000; text-decoration-color: #008000\">***CONNECTED TO REAL VEHICLE***</span>\n",
       "</pre>\n"
      ],
      "text/plain": [
       "\u001b[32m***CONNECTED TO REAL VEHICLE***\u001b[0m\n"
      ]
     },
     "metadata": {},
     "output_type": "display_data"
    },
    {
     "data": {
      "text/plain": [
       "<utils.robot_controller.RobotController at 0x7f3e7c39d0>"
      ]
     },
     "execution_count": 2,
     "metadata": {},
     "output_type": "execute_result"
    }
   ],
   "source": [
    "config = load_config(\"../config.yaml\")\n",
    "robot = RobotController(config)\n",
    "# When you start the main.py script on the robot, __enter__() is called automatically, in the notebook, we have to call it separately. \n",
    "# The robot will also only disconnect, once we stop the notebok's kernel.\n",
    "robot.__enter__()"
   ]
  },
  {
   "cell_type": "markdown",
   "metadata": {},
   "source": [
    "## Moving the robot"
   ]
  },
  {
   "cell_type": "markdown",
   "metadata": {},
   "source": [
    "The robot's movements are controlled using the *move* function that is implemented in the *RobotController* class. It has two parameters:\n",
    "- speed: Controls the percentage of maximum speed at which the robot moves forwards (or backwards is speed < 0)\n",
    "- turn: Controls the percentage of the maximum angular velocity at which the robot turns (turn > 0 means the robot turns left, turn < 0 means it turns right)"
   ]
  },
  {
   "cell_type": "markdown",
   "metadata": {},
   "source": [
    "### Examples"
   ]
  },
  {
   "cell_type": "markdown",
   "metadata": {},
   "source": [
    "Calling the *move* function with *speed=50* and *turn=0* results in the robot driving straight forward at 50% of its maximum speed. "
   ]
  },
  {
   "cell_type": "code",
   "execution_count": 117,
   "metadata": {},
   "outputs": [],
   "source": [
    "for i in range(250):\n",
    "    robot.move(50, 0)"
   ]
  },
  {
   "cell_type": "markdown",
   "metadata": {},
   "source": [
    "Calling it with *speed=-50* results in it driving backwards at 50% of its full speed."
   ]
  },
  {
   "cell_type": "code",
   "execution_count": 5,
   "metadata": {},
   "outputs": [],
   "source": [
    "for i in range(250):\n",
    "    robot.move(-50, 0)"
   ]
  },
  {
   "cell_type": "markdown",
   "metadata": {},
   "source": [
    "Calling the move function with *speed=0* and *turn=50* makes the robot rotate on the spot counterclockwise ."
   ]
  },
  {
   "cell_type": "code",
   "execution_count": 6,
   "metadata": {},
   "outputs": [],
   "source": [
    "for i in range(500):\n",
    "    robot.move(0,50)"
   ]
  },
  {
   "cell_type": "markdown",
   "metadata": {},
   "source": [
    "Calling the *move* funtion with *speed=50* and *turn=-50* results in the robot driving forwards at half of its full speed, while also turning right at half the rate it is able to."
   ]
  },
  {
   "cell_type": "code",
   "execution_count": 7,
   "metadata": {},
   "outputs": [],
   "source": [
    "for i in range(500):\n",
    "    robot.move(50,-50)"
   ]
  },
  {
   "cell_type": "markdown",
   "metadata": {},
   "source": [
    "## Practice Tasks"
   ]
  },
  {
   "cell_type": "markdown",
   "metadata": {},
   "source": [
    "### Make your robot drive an S curve"
   ]
  },
  {
   "cell_type": "code",
   "execution_count": 26,
   "metadata": {},
   "outputs": [],
   "source": [
    "for i in range(460):\n",
    "    robot.move(50,-50)\n",
    "for i in range(460):\n",
    "    robot.move(50,50)"
   ]
  },
  {
   "cell_type": "markdown",
   "metadata": {},
   "source": [
    "### Make your robot do a full 360° rotation clockwise "
   ]
  },
  {
   "cell_type": "code",
   "execution_count": 116,
   "metadata": {},
   "outputs": [],
   "source": [
    "import time\n",
    "for i in range(1):\n",
    "    robot.move(0,100)\n",
    "\n",
    "time.sleep(1)"
   ]
  },
  {
   "cell_type": "markdown",
   "metadata": {},
   "source": []
  },
  {
   "cell_type": "markdown",
   "metadata": {},
   "source": [
    "### Make your robot drive counterclockwise in a circle"
   ]
  },
  {
   "cell_type": "code",
   "execution_count": 4,
   "metadata": {},
   "outputs": [],
   "source": [
    "for i in range(1000):\n",
    "    robot.move(50,50)"
   ]
  },
  {
   "cell_type": "markdown",
   "metadata": {},
   "source": [
    "### Make your robot drive a square with ~50cm edge length"
   ]
  },
  {
   "cell_type": "code",
   "execution_count": 11,
   "metadata": {},
   "outputs": [],
   "source": [
    "import time \n",
    "def rectangle(edge_length):\n",
    "    for i in range(4):\n",
    "        for i in range(edge_length*100):\n",
    "            robot.move(100,0)\n",
    "        time.sleep(1)\n",
    "        for i in range(125):\n",
    "            robot.move(0,-100)\n",
    "        time.sleep(1)\n",
    "\n",
    "rectangle(2)"
   ]
  },
  {
   "cell_type": "markdown",
   "metadata": {},
   "source": [
    "### Make the robot drive to a point that is one meter in front and one meter to the left of its current position"
   ]
  },
  {
   "cell_type": "code",
   "execution_count": null,
   "metadata": {},
   "outputs": [],
   "source": [
    "for i in range(400):\n",
    "    robot.move(100,0)\n",
    "time.sleep(1)\n",
    "for i in range(125):\n",
    "    robot.move(0,-100)\n",
    "time.sleep(1)\n",
    "for i in range(400):\n",
    "    robot.move(100,0)"
   ]
  },
  {
   "cell_type": "markdown",
   "metadata": {},
   "source": [
    "### Make the robot drive to a point that is a meter behind its current poition and half a meter to the right"
   ]
  },
  {
   "cell_type": "code",
   "execution_count": null,
   "metadata": {},
   "outputs": [],
   "source": [
    "for i in range(400):\n",
    "    robot.move(-100,0)\n",
    "time.sleep(1)\n",
    "for i in range(125):\n",
    "    robot.move(0,100)\n",
    "time.sleep(1)\n",
    "for i in range(200):\n",
    "    robot.move(100,0)"
   ]
  },
  {
   "cell_type": "markdown",
   "metadata": {},
   "source": [
    "### **Final Note: In order to use the robot outside this notebook, you have to stop the kernel (or click \"Restart\" if you are using VSCode). Otherwise the robot will still be seen as busy when starting main.py**"
   ]
  },
  {
   "cell_type": "code",
   "execution_count": null,
   "metadata": {},
   "outputs": [],
   "source": []
  }
 ],
 "metadata": {
  "kernelspec": {
   "display_name": ".ev3-venv",
   "language": "python",
   "name": "python3"
  },
  "language_info": {
   "codemirror_mode": {
    "name": "ipython",
    "version": 3
   },
   "file_extension": ".py",
   "mimetype": "text/x-python",
   "name": "python",
   "nbconvert_exporter": "python",
   "pygments_lexer": "ipython3",
   "version": "3.11.2"
  }
 },
 "nbformat": 4,
 "nbformat_minor": 4
}
