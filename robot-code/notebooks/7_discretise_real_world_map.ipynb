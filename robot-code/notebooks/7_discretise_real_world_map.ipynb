{
 "cells": [
  {
   "cell_type": "markdown",
   "metadata": {},
   "source": [
    "# Task 7: Discretising the Map and Finding Optimal Paths"
   ]
  },
  {
   "cell_type": "markdown",
   "metadata": {},
   "source": [
    "In this notbook, we will create a (discretised) representation of the robot's internal map and use it to plan a path from one point to another while avoiding some obstacles."
   ]
  },
  {
   "cell_type": "markdown",
   "metadata": {},
   "source": [
    "## Imports"
   ]
  },
  {
   "cell_type": "code",
   "execution_count": 1,
   "metadata": {},
   "outputs": [],
   "source": [
    "import numpy as np\n",
    "from matplotlib import pyplot as plt"
   ]
  },
  {
   "cell_type": "markdown",
   "metadata": {},
   "source": [
    "## Creating the discretised map"
   ]
  },
  {
   "cell_type": "markdown",
   "metadata": {},
   "source": [
    "So far, our representation of the world only consists of a set of markers and their positions, and is only implicitly provided by the our SLAM implementation. This way of representing the world is however inconvenient for more complex tasks like path planning. Thus, we want to \n",
    "\n",
    "**Task:** Create a map that represents the robot's environment, and  that can later be used to do path planning. Think about how you should represent markers or other obstacles in the map. Think about how you can make sure that the robot, when following a planned path later on, stays far enough away from them while driving."
   ]
  },
  {
   "cell_type": "code",
   "execution_count": 2,
   "metadata": {},
   "outputs": [],
   "source": [
    "### Your code here ###\n",
    "map_size = 4\n",
    "marker_size = 0.068\n",
    "step_size = 0.01\n",
    "Map = np.zeros((int(map_size / step_size), int(map_size / step_size)))\n",
    "###"
   ]
  },
  {
   "cell_type": "markdown",
   "metadata": {},
   "source": [
    "**Task:** Write a function that projects from the robot's world frame coordinates to your map coordinates, and a function that projects map coordinates back into world frame coordinates.\n",
    "\n",
    "**Note:** If the coordinate frame in your map implementation is identical to the robot's world coordinate frame, feel free to just ignore these functions."
   ]
  },
  {
   "cell_type": "code",
   "execution_count": 11,
   "metadata": {},
   "outputs": [],
   "source": [
    "### Your code here ###\n",
    "def world_to_map(pos,step_size,map_size):\n",
    "    pos += map_size / 2\n",
    "\n",
    "    return np.round(pos / step_size).astype(int)\n",
    "\n",
    "def map_to_world(pos):\n",
    "    pos -= int(map_size / (2 * step_size))\n",
    "\n",
    "    return pos * step_size\n",
    "###"
   ]
  },
  {
   "cell_type": "markdown",
   "metadata": {},
   "source": [
    "**Task:** Write a function that adds a marker with given coordinates to your map. "
   ]
  },
  {
   "cell_type": "code",
   "execution_count": 4,
   "metadata": {},
   "outputs": [],
   "source": [
    "### Your code here ###\n",
    "def add_marker(Map, pos, marker_size):\n",
    "    x, y = world_to_map(pos)\n",
    "    ms = int(marker_size / step_size)\n",
    "    \n",
    "    Map[y-ms:y+ms, x-ms:x+ms] = 1\n",
    "\n",
    "###"
   ]
  },
  {
   "cell_type": "markdown",
   "metadata": {},
   "source": [
    "Our robot has detected a number of markers in its environment, so we can now get their coordinates, poses and ids from SLAM."
   ]
  },
  {
   "cell_type": "code",
   "execution_count": 5,
   "metadata": {},
   "outputs": [],
   "source": [
    "markers_slam = (np.array([[ 0.35988178,  0.03438656],\n",
    "            [ 0.47746729, -0.09735373],\n",
    "            [ 0.59155068,  0.01508132]]),\n",
    "     np.array([[ 0.00243039,  0.00058545,  0.10204815],\n",
    "            [ 0.00414831,  0.001392  , -0.20395623],\n",
    "            [ 0.00306644,  0.00126878,  0.04704469]]),\n",
    "     np.array([821, 902, 557]))\n",
    "\n",
    "coords, poses, ids = markers_slam"
   ]
  },
  {
   "cell_type": "markdown",
   "metadata": {},
   "source": [
    "**Task:** Add all markers to the map."
   ]
  },
  {
   "cell_type": "code",
   "execution_count": 6,
   "metadata": {},
   "outputs": [],
   "source": [
    "### Your code here ###\n",
    "for coord in coords:\n",
    "    add_marker(Map, coord, marker_size)\n",
    "###"
   ]
  },
  {
   "cell_type": "markdown",
   "metadata": {},
   "source": [
    "**Task:** Visualise your map with the added markers."
   ]
  },
  {
   "cell_type": "code",
   "execution_count": 7,
   "metadata": {},
   "outputs": [
    {
     "data": {
      "text/plain": [
       "<matplotlib.image.AxesImage at 0x7f6f4f2d90>"
      ]
     },
     "execution_count": 7,
     "metadata": {},
     "output_type": "execute_result"
    },
    {
     "data": {
      "image/png": "[encoded data removed]",
      "text/plain": [
       "<Figure size 640x480 with 1 Axes>"
      ]
     },
     "metadata": {},
     "output_type": "display_data"
    }
   ],
   "source": [
    "### Your code here\n",
    "plt.imshow(Map)\n",
    "###"
   ]
  },
  {
   "cell_type": "markdown",
   "metadata": {},
   "source": []
  },
  {
   "cell_type": "markdown",
   "metadata": {},
   "source": [
    "## Path planning"
   ]
  },
  {
   "cell_type": "markdown",
   "metadata": {},
   "source": [
    "At the core of many planning tasks (especially the ones in our project) is pathfinding. In the following section, we use our map to plan a(n optimal) path from one point to another, while avoiding the markers that are in between the two points."
   ]
  },
  {
   "cell_type": "markdown",
   "metadata": {},
   "source": [
    "**Task:** Implement a pathfinding algorithm (e.g. A*) that can be used by the robot to find paths between points in your map."
   ]
  },
  {
   "cell_type": "code",
   "execution_count": null,
   "metadata": {},
   "outputs": [],
   "source": [
    "### Your code here ###\n",
    "#Map = np.zeros((10, 10))\n",
    "#Map[3:5, 3:6] = 1   \n",
    "\n",
    "def find_path(M, start, goal):\n",
    "    G = np.full(Map.shape, np.inf, dtype=float)\n",
    "    \n",
    "    # pre compute all values for H\n",
    "    i, j = Map.shape\n",
    "    ii, jj = np.meshgrid(np.arange(i), np.arange(j))\n",
    "    \n",
    "    # saves x and y distances seperately to compute grid distance\n",
    "    distances = np.abs([ii - goal[0], jj - goal[1]])\n",
    "    d_max = np.max(distances, axis=0).T\n",
    "    d_min = np.min(distances, axis=0).T\n",
    "    H = (d_max - d_min) * 10 + d_min * 14\n",
    "\n",
    "    # saves positions of obstacles and already known nodes\n",
    "    # init as copy of map to exlude obstacle nodes from pathfinding\n",
    "    mask = np.array(Map, dtype=bool)\n",
    "    F = np.ma.MaskedArray(G + H, mask)\n",
    "\n",
    "    # for every discovered node save where optimal path came from\n",
    "    pred = np.zeros((i, j, 2), dtype=int)\n",
    "    \n",
    "    x, y = start\n",
    "    G[x, y] = 0\n",
    "\n",
    "    neighbours = lambda x, y: np.array([\n",
    "        [x, y + 1],\n",
    "        [x, y - 1], \n",
    "        [x - 1, y], \n",
    "        [x + 1, y], \n",
    "        [x - 1, y - 1],\n",
    "        [x - 1, y + 1],\n",
    "        [x + 1, y - 1],\n",
    "        [x + 1, y + 1]\n",
    "    ])\n",
    "    \n",
    "    while np.any((x, y) != goal):\n",
    "        Gc = G[x, y]\n",
    "        mask[x, y] = 1\n",
    "        \n",
    "        for num, (nx, ny) in enumerate(neighbours(x, y)):  \n",
    "            if not mask[nx, ny]:\n",
    "                # diagonal neighbour distance is 14 instead of 10\n",
    "                d = 14 if num > 3 else 10\n",
    "\n",
    "                if Gc + d < G[nx, ny]:\n",
    "                    G[nx, ny] = Gc + d\n",
    "                    pred[nx, ny] = (x, y)\n",
    "    \n",
    "                F[nx, ny] = G[nx, ny] + H[nx, ny]\n",
    "        \n",
    "        # Search for min F chordinates\n",
    "        F_min = np.min(F)\n",
    "        min_idxs = np.where(F.flatten() == F_min)[0]\n",
    "        \n",
    "        # Select min index based on smallest H value\n",
    "        H_values = H.flatten()[min_idxs]\n",
    "        min_idx = min_idxs[np.argmin(H_values)]\n",
    "        \n",
    "        x, y = np.unravel_index(min_idx, F.shape)\n",
    "\n",
    "    # backtracking\n",
    "    path = []\n",
    "    while np.any((x, y) != start):\n",
    "        path.append((x, y))\n",
    "        x, y = pred[x, y]\n",
    "\n",
    "    return np.array(path)\n",
    "###"
   ]
  },
  {
   "cell_type": "markdown",
   "metadata": {},
   "source": [
    "**Task:** Use your shortest path algorithm to find a path from the given start to end point."
   ]
  },
  {
   "cell_type": "code",
   "execution_count": 9,
   "metadata": {},
   "outputs": [],
   "source": [
    "start_point = np.array([0.1,0.3], dtype=float)\n",
    "end_point = np.array([-0.1,0.6], dtype=float)\n",
    "### Your code here ###\n",
    "path = find_path(Map, world_to_map(start_point), world_to_map(end_point))\n",
    "###"
   ]
  },
  {
   "cell_type": "markdown",
   "metadata": {},
   "source": [
    "**Task:** Draw your path onto the map and display it. (Tipp: This might work easiest using a pyplot [scatter]plot)"
   ]
  },
  {
   "cell_type": "code",
   "execution_count": 10,
   "metadata": {},
   "outputs": [
    {
     "data": {
      "text/plain": [
       "(150.0, 250.0)"
      ]
     },
     "execution_count": 10,
     "metadata": {},
     "output_type": "execute_result"
    },
    {
     "data": {
      "image/png": "[encoded data removed]",
      "text/plain": [
       "<Figure size 640x480 with 1 Axes>"
      ]
     },
     "metadata": {},
     "output_type": "display_data"
    }
   ],
   "source": [
    "### Your code here ###\n",
    "plt.imshow(Map)\n",
    "plt.plot(path[:, 1], path[:, 0], c='white')\n",
    "plt.xlim(200, 300)\n",
    "plt.ylim(150, 250)\n",
    "###"
   ]
  },
  {
   "cell_type": "markdown",
   "metadata": {},
   "source": [
    "**Final Note:** Think about how the path your robot takes would look like in the real world. Would it be feasible for the real robot? A path that goes in between the markers, for example, would be impossible to use for the actual robot, because the markers are too close together for the actual robot to drive between them."
   ]
  },
  {
   "cell_type": "code",
   "execution_count": null,
   "metadata": {},
   "outputs": [],
   "source": []
  },
  {
   "cell_type": "code",
   "execution_count": null,
   "metadata": {},
   "outputs": [],
   "source": []
  }
 ],
 "metadata": {
  "kernelspec": {
   "display_name": ".ev3-venv",
   "language": "python",
   "name": "python3"
  },
  "language_info": {
   "codemirror_mode": {
    "name": "ipython",
    "version": 3
   },
   "file_extension": ".py",
   "mimetype": "text/x-python",
   "name": "python",
   "nbconvert_exporter": "python",
   "pygments_lexer": "ipython3",
   "version": "3.11.2"
  }
 },
 "nbformat": 4,
 "nbformat_minor": 4
}
