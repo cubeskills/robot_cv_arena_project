{
 "cells": [
  {
   "cell_type": "markdown",
   "metadata": {},
   "source": [
    "# Task 8: Planning"
   ]
  },
  {
   "cell_type": "markdown",
   "metadata": {},
   "source": [
    "In each of the previous notebooks, we looked at one specific subtask necessary for controlling the robot (and completing the project). In this notbook, we will finally be putting everything together. The goal of this notebook is to implement path following, tasks and scheduling, which depend on the things we learned in the previous notebooks, like map creation or driving to a point, and in turn form the basis for completing the project task."
   ]
  },
  {
   "cell_type": "markdown",
   "metadata": {},
   "source": [
    "## Imports"
   ]
  },
  {
   "cell_type": "code",
   "execution_count": 1,
   "metadata": {},
   "outputs": [],
   "source": [
    "import numpy as np\n",
    "\n",
    "import sys\n",
    "import os\n",
    "sys.path.insert(1, os.path.join(os.getcwd(), '..'))\n",
    "\n",
    "#from utils.utils import difference_angle\n",
    "\n",
    "from matplotlib import pyplot as plt\n",
    "import matplotlib\n",
    "from utils.EKFSLAM import EKFSLAM\n",
    "from utils.utils import PIDController\n",
    "\n",
    "from utils.robot_dummy import DummyVehicle\n",
    "from utils.utils import load_config\n",
    "def difference_angle(angle1, angle2):\n",
    "    difference = (angle1 - angle2) % (2*np.pi)\n",
    "    difference = np.where(difference > np.pi, difference - 2*np.pi, difference)\n",
    "    difference = difference.item()\n",
    "    return difference"
   ]
  },
  {
   "cell_type": "markdown",
   "metadata": {},
   "source": [
    "## Creating a World Map"
   ]
  },
  {
   "cell_type": "markdown",
   "metadata": {},
   "source": [
    "**Task:** Implement a map that the robot can use for path finding and initialise it.\n",
    "\n",
    "**Note:** You can just use your map implementation from notebook 7 for this."
   ]
  },
  {
   "cell_type": "code",
   "execution_count": 2,
   "metadata": {},
   "outputs": [],
   "source": [
    "### Your code here ###\n",
    "map_size = 4\n",
    "marker_size = 0.09\n",
    "step_size = 0.01\n",
    "Map = np.zeros((int(map_size / step_size), int(map_size / step_size)))\n",
    "###"
   ]
  },
  {
   "cell_type": "markdown",
   "metadata": {},
   "source": [
    "**Task:** Implement functions that transform given world coordinates to map coordinates and vice versa. Also implement a map representation of the world with a function for adding new objects (markers) to it.\n",
    "\n",
    "**Note:** You can just use your functions from notebook 7 for this."
   ]
  },
  {
   "cell_type": "code",
   "execution_count": 93,
   "metadata": {},
   "outputs": [],
   "source": [
    "### Your code here ###\n",
    "def world_to_map(pos,step_size,map_size):\n",
    "    \n",
    "    new_pos = pos + map_size / 2\n",
    "    \n",
    "    return np.round(new_pos / step_size).astype(int)\n",
    "\n",
    "def map_to_world(pos, step_size, map_size):\n",
    "    new_pos = pos -int(map_size / (2 * step_size))\n",
    "\n",
    "    return new_pos * step_size\n",
    "###"
   ]
  },
  {
   "cell_type": "markdown",
   "metadata": {},
   "source": [
    "**Task:** Add the given markers to the map and and visualize the map afterwards."
   ]
  },
  {
   "cell_type": "code",
   "execution_count": 4,
   "metadata": {},
   "outputs": [],
   "source": [
    "markers_slam = (np.array([[ 0.35988178,  0.03438656],\n",
    "            [ 0.46746729, -0.10735373],\n",
    "            [ 0.59155068,  0.01508132]]),\n",
    "     np.array([[ 0.00243039,  0.00058545,  0.10204815],\n",
    "            [ 0.00414831,  0.001392  , -0.20395623],\n",
    "            [ 0.00306644,  0.00126878,  0.04704469]]),\n",
    "     np.array([821, 902, 557]))\n",
    "\n",
    "coords, poses, ids = markers_slam"
   ]
  },
  {
   "cell_type": "code",
   "execution_count": 5,
   "metadata": {},
   "outputs": [],
   "source": [
    "### Your code here\n",
    "\n",
    "### ### Your code here ###\n",
    "def add_marker(Map, pos, marker_size):\n",
    "    \n",
    "    x, y = world_to_map(pos,step_size,map_size)\n",
    "    ms = int(marker_size / (2*step_size))\n",
    "    \n",
    "    Map[y-ms:y+ms, x-ms:x+ms] = 1\n",
    "\n",
    "###"
   ]
  },
  {
   "cell_type": "code",
   "execution_count": 155,
   "metadata": {},
   "outputs": [
    {
     "data": {
      "text/plain": [
       "(0.0, 400.0)"
      ]
     },
     "execution_count": 155,
     "metadata": {},
     "output_type": "execute_result"
    },
    {
     "data": {
      "image/png": "[encoded data removed]",
      "text/plain": [
       "<Figure size 640x480 with 1 Axes>"
      ]
     },
     "metadata": {},
     "output_type": "display_data"
    }
   ],
   "source": [
    "### Your code here ###\n",
    "for coord in coords:\n",
    "    add_marker(Map, coord, marker_size)\n",
    "plt.imshow(Map)\n",
    "plt.ylim(0, 400)\n",
    "###"
   ]
  },
  {
   "cell_type": "markdown",
   "metadata": {},
   "source": [
    "## Following a Path"
   ]
  },
  {
   "cell_type": "markdown",
   "metadata": {},
   "source": [
    "In previous notebooks, we have already implemented functions for driving to a point and for finding optimal paths. Now we want to combine the two and have our robot follow a path found by out path finding algorithm."
   ]
  },
  {
   "cell_type": "markdown",
   "metadata": {},
   "source": [
    "**Task:** Implement a pathfinding algorithm for your map.\n",
    "\n",
    "**Note:** You can just use your implementation from notebook 7."
   ]
  },
  {
   "cell_type": "code",
   "execution_count": 172,
   "metadata": {},
   "outputs": [],
   "source": [
    "### Your code here ###\n",
    "#Map = np.zeros((10, 10))\n",
    "#Map[3:5, 3:6] = 1   \n",
    "\n",
    "def find_path(Map, start, goal):\n",
    "    G = np.full(Map.shape, np.inf, dtype=float)\n",
    "    \n",
    "    # pre compute all values for H\n",
    "    i, j = Map.shape\n",
    "    ii, jj = np.meshgrid(np.arange(i), np.arange(j))\n",
    "    \n",
    "    # saves x and y distances seperately to compute grid distance\n",
    "    distances = np.abs([ii - goal[0], jj - goal[1]])\n",
    "    d_max = np.max(distances, axis=0).T\n",
    "    d_min = np.min(distances, axis=0).T\n",
    "    H = (d_max - d_min) * 10 + d_min * 14\n",
    "\n",
    "    # saves positions of obstacles and already known nodes\n",
    "    # init as copy of map to exlude obstacle nodes from pathfinding\n",
    "    mask = np.array(Map, dtype=bool)\n",
    "    F = np.ma.MaskedArray(G + H, mask)\n",
    "\n",
    "    # for every discovered node save where optimal path came from\n",
    "    pred = np.zeros((i, j, 2), dtype=int)\n",
    "    \n",
    "    x, y = start\n",
    "    G[x, y] = 0\n",
    "\n",
    "    neighbours = lambda x, y: np.array([\n",
    "        [x, y + 1],\n",
    "        [x, y - 1], \n",
    "        [x - 1, y], \n",
    "        [x + 1, y], \n",
    "        [x - 1, y - 1],\n",
    "        [x - 1, y + 1],\n",
    "        [x + 1, y - 1],\n",
    "        [x + 1, y + 1]\n",
    "    ])\n",
    "    \n",
    "    while np.any((x, y) != goal):\n",
    "        Gc = G[x, y]\n",
    "        mask[x, y] = 1\n",
    "        \n",
    "        for num, (nx, ny) in enumerate(neighbours(x, y)):  \n",
    "            if not mask[nx, ny]:\n",
    "                # diagonal neighbour distance is 14 instead of 10\n",
    "                d = 14 if num > 3 else 10\n",
    "\n",
    "                if Gc + d < G[nx, ny]:\n",
    "                    G[nx, ny] = Gc + d\n",
    "                    pred[nx, ny] = (x, y)\n",
    "    \n",
    "                F[nx, ny] = G[nx, ny] + H[nx, ny]\n",
    "        \n",
    "        # Search for min F chordinates\n",
    "        F_min = np.min(F)\n",
    "        min_idxs = np.where(F.flatten() == F_min)[0]\n",
    "        \n",
    "        # Select min index based on smallest H value\n",
    "        H_values = H.flatten()[min_idxs]\n",
    "        min_idx = min_idxs[np.argmin(H_values)]\n",
    "        \n",
    "        x, y = np.unravel_index(min_idx, F.shape)\n",
    "\n",
    "    # backtracking\n",
    "    path = []\n",
    "    while np.any((x, y) != start):\n",
    "        path.append((x, y))\n",
    "        x, y = pred[x, y]\n",
    "\n",
    "    return path\n",
    "###"
   ]
  },
  {
   "cell_type": "markdown",
   "metadata": {},
   "source": [
    "**Task:** Find the shortest path between the two given points"
   ]
  },
  {
   "cell_type": "code",
   "execution_count": 173,
   "metadata": {},
   "outputs": [],
   "source": [
    "start_point = np.array((0,0), dtype=float)\n",
    "end_point = np.array((0,0.99))\n",
    "### Your code here ###\n",
    "start_point_map = world_to_map(start_point, step_size, map_size)\n",
    "end_point_map = world_to_map(end_point, step_size, map_size)\n",
    "path = find_path(Map, start_point_map, end_point_map)\n",
    "###"
   ]
  },
  {
   "cell_type": "markdown",
   "metadata": {},
   "source": [
    "**Task:** Visualise your path on the map."
   ]
  },
  {
   "cell_type": "code",
   "execution_count": 174,
   "metadata": {},
   "outputs": [
    {
     "data": {
      "image/png": "[encoded data removed]",
      "text/plain": [
       "<Figure size 640x480 with 1 Axes>"
      ]
     },
     "metadata": {},
     "output_type": "display_data"
    }
   ],
   "source": [
    "path_y, path_x = list(zip(*path))\n",
    "plt.imshow(Map, cmap=\"binary\")\n",
    "#plt.xticks(np.arange(0, map_size+25, 25), np.arange(-int(np.round(map_size/2)), int(np.round(map_size/2))+25, 25))\n",
    "#plt.yticks(np.arange(0, map_size+25, 25), np.arange(-int(np.round(map_size/2)), int(np.round(map_size/2))+25, 25))\n",
    "plt.scatter(path_x, path_y, marker=\"o\", color=\"blue\", label=\"path\", s=1)\n",
    "plt.scatter([path_x[0]], [path_y[0]], marker=\"x\", color=\"lightgreen\", label=\"start point\")\n",
    "plt.scatter([path_x[-1]], [path_y[-1]], marker=\"x\", color=\"red\", label=\"end point\")\n",
    "plt.legend()\n",
    "plt.show()"
   ]
  },
  {
   "cell_type": "markdown",
   "metadata": {},
   "source": [
    "Having the robot try to reach every single point along the path in the discretised map would be very inefficient and very likely unnecessary. Instead, it makes more sense to select a subsample from the total number of points along the path that is sufficient for the robot to follow the path closely enough. E.g. when driving in a straight line, it should be sufficient to only include the start and end point of the line, because all other points along the line only provide redunant information.\n",
    "\n",
    "**Task:** Write a function that selects the relevant points that the robot need to follow the path from the path returned by your pathfinding algorithm.\n",
    "\n",
    "**Note:** There are also much more elegant solutions to this than just selecting a fixed subset of way points. Feel free to come up with your own solutions!"
   ]
  },
  {
   "cell_type": "code",
   "execution_count": 71,
   "metadata": {},
   "outputs": [
    {
     "name": "stdout",
     "output_type": "stream",
     "text": [
      "[[ 0.    0.01]\n",
      " [ 0.    0.3 ]\n",
      " [-0.02  0.32]\n",
      " [-0.02  0.54]\n",
      " [-0.03  0.55]\n",
      " [-0.03  0.62]\n",
      " [ 0.    0.65]\n",
      " [ 0.    0.99]]\n"
     ]
    }
   ],
   "source": [
    "def robot_path(path,step_size,map_size):\n",
    "    directions = (path - np.roll(path, 1, axis=0))\n",
    "    dir_changes = np.any(directions != np.roll(directions, -1, axis=0), axis=1)\n",
    "    return map_to_world(path[dir_changes][::-1], step_size, map_size)\n",
    "    \n",
    "rpath = robot_path(path,step_size,map_size)  \n",
    "print(rpath)\n"
   ]
  },
  {
   "cell_type": "markdown",
   "metadata": {},
   "source": [
    "**Task:** Select the relevant points from the path found in the pathfinding task above and visualise them."
   ]
  },
  {
   "cell_type": "code",
   "execution_count": 73,
   "metadata": {},
   "outputs": [
    {
     "name": "stdout",
     "output_type": "stream",
     "text": [
      "[[ 0.    0.01]\n",
      " [ 0.    0.3 ]\n",
      " [-0.02  0.32]\n",
      " [-0.02  0.54]\n",
      " [-0.03  0.55]\n",
      " [-0.03  0.62]\n",
      " [ 0.    0.65]\n",
      " [ 0.    0.99]]\n"
     ]
    },
    {
     "data": {
      "image/png": "[encoded data removed]",
      "text/plain": [
       "<Figure size 640x480 with 1 Axes>"
      ]
     },
     "metadata": {},
     "output_type": "display_data"
    }
   ],
   "source": [
    "path_map = world_to_map(rpath, step_size, map_size)\n",
    "plt.imshow(Map, cmap=\"binary\")\n",
    "plt.xticks(np.arange(0, map_size+25, 25), np.arange(-int(np.round(map_size/2)), int(np.round(map_size/2))+25, 25))\n",
    "plt.yticks(np.arange(0, map_size+25, 25), np.arange(-int(np.round(map_size/2)), int(np.round(map_size/2))+25, 25))\n",
    "plt.scatter(path_map[:,1],path_map[:,0], marker=\"o\", color=\"blue\", label=\"path\", s=1)\n",
    "#plt.scatter([path_x[0]], [path_y[0]], marker=\"x\", color=\"lightgreen\", label=\"start point\")\n",
    "#plt.scatter([path_x[-1]], [path_y[-1]], marker=\"x\", color=\"red\", label=\"end point\")\n",
    "plt.legend()\n",
    "plt.show()"
   ]
  },
  {
   "cell_type": "markdown",
   "metadata": {},
   "source": [
    "Now that we can extract the relevant way points from our path, we want our robot to follow the path, i.e. sequentially pass through all selected way points. For this, we will again use our the simulated robot we used in *notebook 6*.\n",
    "\n",
    "First we initialise our simulated robot."
   ]
  },
  {
   "cell_type": "code",
   "execution_count": 141,
   "metadata": {},
   "outputs": [
    {
     "data": {
      "text/html": [
       "<pre style=\"white-space:pre;overflow-x:auto;line-height:normal;font-family:Menlo,'DejaVu Sans Mono',consolas,'Courier New',monospace\">config:\n",
       "<span style=\"font-weight: bold\">{</span>\n",
       "    <span style=\"color: #008000; text-decoration-color: #008000\">'robot'</span>: <span style=\"font-weight: bold\">{</span><span style=\"color: #008000; text-decoration-color: #008000\">'wheel_radius'</span>: <span style=\"color: #008080; text-decoration-color: #008080; font-weight: bold\">0.027216</span>, <span style=\"color: #008000; text-decoration-color: #008000\">'width'</span>: <span style=\"color: #008080; text-decoration-color: #008080; font-weight: bold\">0.15</span>, <span style=\"color: #008000; text-decoration-color: #008000\">'delta_t'</span>: <span style=\"color: #008080; text-decoration-color: #008080; font-weight: bold\">0.15</span><span style=\"font-weight: bold\">}</span>,\n",
       "    <span style=\"color: #008000; text-decoration-color: #008000\">'camera'</span>: <span style=\"font-weight: bold\">{</span><span style=\"color: #008000; text-decoration-color: #008000\">'y_offset'</span>: <span style=\"color: #008080; text-decoration-color: #008080; font-weight: bold\">0.0</span>, <span style=\"color: #008000; text-decoration-color: #008000\">'z_offset'</span>: <span style=\"color: #008080; text-decoration-color: #008080; font-weight: bold\">0.273</span>, <span style=\"color: #008000; text-decoration-color: #008000\">'x_angle'</span>: <span style=\"color: #008080; text-decoration-color: #008080; font-weight: bold\">-126.5</span>, <span style=\"color: #008000; text-decoration-color: #008000\">'exposure_time'</span>: <span style=\"color: #008080; text-decoration-color: #008080; font-weight: bold\">80</span>, <span style=\"color: #008000; text-decoration-color: #008000\">'gain'</span>: <span style=\"color: #008080; text-decoration-color: #008080; font-weight: bold\">50</span><span style=\"font-weight: bold\">}</span>,\n",
       "    <span style=\"color: #008000; text-decoration-color: #008000\">'ekf_slam'</span>: <span style=\"font-weight: bold\">{</span><span style=\"color: #008000; text-decoration-color: #008000\">'robot_width'</span>: <span style=\"color: #008080; text-decoration-color: #008080; font-weight: bold\">0.15</span>, <span style=\"color: #008000; text-decoration-color: #008000\">'motor_std'</span>: <span style=\"color: #008080; text-decoration-color: #008080; font-weight: bold\">4</span>, <span style=\"color: #008000; text-decoration-color: #008000\">'dist_std'</span>: <span style=\"color: #008080; text-decoration-color: #008080; font-weight: bold\">0.1</span>, <span style=\"color: #008000; text-decoration-color: #008000\">'angle_std'</span>: <span style=\"color: #008080; text-decoration-color: #008080; font-weight: bold\">4</span><span style=\"font-weight: bold\">}</span>,\n",
       "    <span style=\"color: #008000; text-decoration-color: #008000\">'pid_controller'</span>: <span style=\"font-weight: bold\">{</span><span style=\"color: #008000; text-decoration-color: #008000\">'P'</span>: <span style=\"color: #008080; text-decoration-color: #008080; font-weight: bold\">100</span>, <span style=\"color: #008000; text-decoration-color: #008000\">'I'</span>: <span style=\"color: #008080; text-decoration-color: #008080; font-weight: bold\">0</span>, <span style=\"color: #008000; text-decoration-color: #008000\">'D'</span>: <span style=\"color: #008080; text-decoration-color: #008080; font-weight: bold\">0</span><span style=\"font-weight: bold\">}</span>\n",
       "<span style=\"font-weight: bold\">}</span>\n",
       "</pre>\n"
      ],
      "text/plain": [
       "config:\n",
       "\u001b[1m{\u001b[0m\n",
       "    \u001b[32m'robot'\u001b[0m: \u001b[1m{\u001b[0m\u001b[32m'wheel_radius'\u001b[0m: \u001b[1;36m0.027216\u001b[0m, \u001b[32m'width'\u001b[0m: \u001b[1;36m0.15\u001b[0m, \u001b[32m'delta_t'\u001b[0m: \u001b[1;36m0.15\u001b[0m\u001b[1m}\u001b[0m,\n",
       "    \u001b[32m'camera'\u001b[0m: \u001b[1m{\u001b[0m\u001b[32m'y_offset'\u001b[0m: \u001b[1;36m0.0\u001b[0m, \u001b[32m'z_offset'\u001b[0m: \u001b[1;36m0.273\u001b[0m, \u001b[32m'x_angle'\u001b[0m: \u001b[1;36m-126.5\u001b[0m, \u001b[32m'exposure_time'\u001b[0m: \u001b[1;36m80\u001b[0m, \u001b[32m'gain'\u001b[0m: \u001b[1;36m50\u001b[0m\u001b[1m}\u001b[0m,\n",
       "    \u001b[32m'ekf_slam'\u001b[0m: \u001b[1m{\u001b[0m\u001b[32m'robot_width'\u001b[0m: \u001b[1;36m0.15\u001b[0m, \u001b[32m'motor_std'\u001b[0m: \u001b[1;36m4\u001b[0m, \u001b[32m'dist_std'\u001b[0m: \u001b[1;36m0.1\u001b[0m, \u001b[32m'angle_std'\u001b[0m: \u001b[1;36m4\u001b[0m\u001b[1m}\u001b[0m,\n",
       "    \u001b[32m'pid_controller'\u001b[0m: \u001b[1m{\u001b[0m\u001b[32m'P'\u001b[0m: \u001b[1;36m100\u001b[0m, \u001b[32m'I'\u001b[0m: \u001b[1;36m0\u001b[0m, \u001b[32m'D'\u001b[0m: \u001b[1;36m0\u001b[0m\u001b[1m}\u001b[0m\n",
       "\u001b[1m}\u001b[0m\n"
      ]
     },
     "metadata": {},
     "output_type": "display_data"
    }
   ],
   "source": [
    "config = load_config(\"../config.yaml\")\n",
    "start_x = 0.0\n",
    "start_y = 0.0\n",
    "start_theta = 0.0\n",
    "robot = DummyVehicle(start_x, start_y, start_theta, config.robot.wheel_radius, config.robot.width, 0.01, 0.01, np.pi/4)"
   ]
  },
  {
   "cell_type": "markdown",
   "metadata": {},
   "source": [
    "**Task:** Implement and set up the PID controller for your path following function.\n",
    "\n",
    "**Note:** You can just reuse your implementation from notebook 6."
   ]
  },
  {
   "cell_type": "code",
   "execution_count": 75,
   "metadata": {},
   "outputs": [
    {
     "data": {
      "text/html": [
       "<pre style=\"white-space:pre;overflow-x:auto;line-height:normal;font-family:Menlo,'DejaVu Sans Mono',consolas,'Courier New',monospace\"><span style=\"color: #008080; text-decoration-color: #008080; font-weight: bold\">50</span> <span style=\"color: #008080; text-decoration-color: #008080; font-weight: bold\">0.01</span> <span style=\"color: #008080; text-decoration-color: #008080; font-weight: bold\">0.02</span>\n",
       "</pre>\n"
      ],
      "text/plain": [
       "\u001b[1;36m50\u001b[0m \u001b[1;36m0.01\u001b[0m \u001b[1;36m0.02\u001b[0m\n"
      ]
     },
     "metadata": {},
     "output_type": "display_data"
    }
   ],
   "source": [
    "positions = []\n",
    "\n",
    "def follow_path(path):\n",
    "    \n",
    "    eps_dist = .02\n",
    "    eps_angle = .1\n",
    "    mx_speed = 100\n",
    "    PID = PIDController(50,0.01,0.02)\n",
    "    for point in path: \n",
    "        while np.hypot(point[0]- robot.x, point[1] - robot.y) >=eps_dist:\n",
    "            \n",
    "            delta_x = point[0] - robot.x\n",
    "            delta_y = point[1] - robot.y\n",
    "            angle_to_point = np.arctan2(delta_y, delta_x)\n",
    "            angle = difference_angle(angle_to_point,robot.theta)\n",
    "            #######################\n",
    "            positions.append([robot.x,robot.y])\n",
    "            #######################\n",
    "            turn = PID.get_u(-angle)\n",
    "            speed = mx_speed\n",
    "\n",
    "            if abs(angle) > eps_angle:\n",
    "                speed = 0\n",
    "            \n",
    "            robot.move(speed,turn)\n",
    "    \n",
    "follow_path(rpath)\n",
    "    \n",
    "    \n",
    "\n",
    "\n",
    "   "
   ]
  },
  {
   "cell_type": "code",
   "execution_count": 76,
   "metadata": {},
   "outputs": [
    {
     "name": "stdout",
     "output_type": "stream",
     "text": [
      "[[ 0.00000000e+00  0.00000000e+00]\n",
      " [ 0.00000000e+00  0.00000000e+00]\n",
      " [ 0.00000000e+00  0.00000000e+00]\n",
      " [ 0.00000000e+00  0.00000000e+00]\n",
      " [ 0.00000000e+00  0.00000000e+00]\n",
      " [ 0.00000000e+00  0.00000000e+00]\n",
      " [ 0.00000000e+00  0.00000000e+00]\n",
      " [ 0.00000000e+00  0.00000000e+00]\n",
      " [ 0.00000000e+00  0.00000000e+00]\n",
      " [ 0.00000000e+00  0.00000000e+00]\n",
      " [ 0.00000000e+00  0.00000000e+00]\n",
      " [ 0.00000000e+00  0.00000000e+00]\n",
      " [ 0.00000000e+00  0.00000000e+00]\n",
      " [ 0.00000000e+00  0.00000000e+00]\n",
      " [ 0.00000000e+00  0.00000000e+00]\n",
      " [ 0.00000000e+00  0.00000000e+00]\n",
      " [ 0.00000000e+00  0.00000000e+00]\n",
      " [ 0.00000000e+00  0.00000000e+00]\n",
      " [ 0.00000000e+00  0.00000000e+00]\n",
      " [ 3.22993823e-04  3.66005618e-03]\n",
      " [ 5.99046893e-04  7.32395895e-03]\n",
      " [ 8.34349518e-04  1.09907097e-02]\n",
      " [ 1.03427924e-03  1.46595632e-02]\n",
      " [ 1.20350437e-03  1.83299642e-02]\n",
      " [ 1.34607618e-03  2.20014993e-02]\n",
      " [ 1.46550977e-03  2.56738617e-02]\n",
      " [ 1.56485470e-03  2.93468237e-02]\n",
      " [ 1.64675652e-03  3.30202170e-02]\n",
      " [ 1.71351032e-03  3.66939175e-02]\n",
      " [ 1.76710730e-03  4.03678341e-02]\n",
      " [ 1.81458834e-03  4.40418366e-02]\n",
      " [ 1.86206938e-03  4.77158390e-02]\n",
      " [ 1.90955042e-03  5.13898414e-02]\n",
      " [ 1.95703145e-03  5.50638439e-02]\n",
      " [ 2.00451249e-03  5.87378463e-02]\n",
      " [ 2.05199353e-03  6.24118487e-02]\n",
      " [ 2.09947457e-03  6.60858512e-02]\n",
      " [ 2.14106389e-03  6.97599234e-02]\n",
      " [ 2.17676142e-03  7.34340593e-02]\n",
      " [ 2.21245895e-03  7.71081951e-02]\n",
      " [ 2.24815649e-03  8.07823309e-02]\n",
      " [ 2.28385402e-03  8.44564667e-02]\n",
      " [ 2.31955155e-03  8.81306025e-02]\n",
      " [ 2.35524908e-03  9.18047383e-02]\n",
      " [ 2.39094662e-03  9.54788742e-02]\n",
      " [ 2.42664415e-03  9.91530100e-02]\n",
      " [ 2.45647502e-03  1.02827197e-01]\n",
      " [ 2.48043919e-03  1.06501428e-01]\n",
      " [ 2.50440336e-03  1.10175659e-01]\n",
      " [ 2.52836753e-03  1.13849890e-01]\n",
      " [ 2.55233169e-03  1.17524121e-01]\n",
      " [ 2.57629586e-03  1.21198352e-01]\n",
      " [ 2.60026003e-03  1.24872583e-01]\n",
      " [ 2.62422419e-03  1.28546814e-01]\n",
      " [ 2.64231237e-03  1.32221077e-01]\n",
      " [ 2.65452452e-03  1.35895366e-01]\n",
      " [ 2.66673667e-03  1.39569655e-01]\n",
      " [ 2.67894882e-03  1.43243944e-01]\n",
      " [ 2.69116097e-03  1.46918233e-01]\n",
      " [ 2.70337313e-03  1.50592522e-01]\n",
      " [ 2.71558528e-03  1.54266811e-01]\n",
      " [ 2.72188604e-03  1.57941113e-01]\n",
      " [ 2.72227540e-03  1.61615422e-01]\n",
      " [ 2.72266476e-03  1.65289732e-01]\n",
      " [ 2.72305413e-03  1.68964041e-01]\n",
      " [ 2.72344349e-03  1.72638350e-01]\n",
      " [ 2.72383285e-03  1.76312659e-01]\n",
      " [ 2.71826499e-03  1.79986963e-01]\n",
      " [ 2.70673992e-03  1.83661254e-01]\n",
      " [ 2.69521485e-03  1.87335545e-01]\n",
      " [ 2.68368978e-03  1.91009836e-01]\n",
      " [ 2.67216471e-03  1.94684127e-01]\n",
      " [ 2.65465336e-03  1.98358393e-01]\n",
      " [ 2.63115575e-03  2.02032627e-01]\n",
      " [ 2.60765814e-03  2.05706861e-01]\n",
      " [ 2.58416053e-03  2.09381095e-01]\n",
      " [ 2.55470697e-03  2.13055285e-01]\n",
      " [ 2.51929752e-03  2.16729424e-01]\n",
      " [ 2.48388807e-03  2.20403562e-01]\n",
      " [ 2.44847862e-03  2.24077701e-01]\n",
      " [ 2.40698338e-03  2.27751774e-01]\n",
      " [ 2.35940242e-03  2.31425775e-01]\n",
      " [ 2.31182145e-03  2.35099776e-01]\n",
      " [ 2.25813982e-03  2.38773692e-01]\n",
      " [ 2.19835761e-03  2.42447514e-01]\n",
      " [ 2.13267297e-03  2.46121235e-01]\n",
      " [ 2.06108600e-03  2.49794847e-01]\n",
      " [ 1.98949903e-03  2.53468459e-01]\n",
      " [ 1.91165467e-03  2.57141941e-01]\n",
      " [ 1.82171218e-03  2.60815148e-01]\n",
      " [ 1.72592895e-03  2.64488209e-01]\n",
      " [ 1.62408818e-03  2.68161104e-01]\n",
      " [ 1.51037255e-03  2.71833652e-01]\n",
      " [ 1.39083959e-03  2.75506016e-01]\n",
      " [ 1.26480074e-03  2.79178161e-01]\n",
      " [ 1.12564587e-03  2.82849833e-01]\n",
      " [ 1.12564587e-03  2.82849833e-01]\n",
      " [ 1.12564587e-03  2.82849833e-01]\n",
      " [ 1.12564587e-03  2.82849833e-01]\n",
      " [ 1.12564587e-03  2.82849833e-01]\n",
      " [ 1.12564587e-03  2.82849833e-01]\n",
      " [ 1.12564587e-03  2.82849833e-01]\n",
      " [ 1.12564587e-03  2.82849833e-01]\n",
      " [ 1.12564587e-03  2.82849833e-01]\n",
      " [ 1.12564587e-03  2.82849833e-01]\n",
      " [ 1.12564587e-03  2.82849833e-01]\n",
      " [ 1.12564587e-03  2.82849833e-01]\n",
      " [-4.31382465e-04  2.86177901e-01]\n",
      " [-2.02844901e-03  2.89486945e-01]\n",
      " [-3.66321506e-03  2.92777530e-01]\n",
      " [-5.33385073e-03  2.96050051e-01]\n",
      " [-7.03906116e-03  2.99304691e-01]\n",
      " [-8.77814787e-03  3.02541357e-01]\n",
      " [-1.05511414e-02  3.05759573e-01]\n",
      " [-1.05511414e-02  3.05759573e-01]\n",
      " [-1.05511414e-02  3.05759573e-01]\n",
      " [-1.05511414e-02  3.05759573e-01]\n",
      " [-1.05511414e-02  3.05759573e-01]\n",
      " [-1.05511414e-02  3.05759573e-01]\n",
      " [-1.05511414e-02  3.05759573e-01]\n",
      " [-1.05511414e-02  3.05759573e-01]\n",
      " [-1.05511414e-02  3.05759573e-01]\n",
      " [-1.05511414e-02  3.05759573e-01]\n",
      " [-1.05511414e-02  3.05759573e-01]\n",
      " [-1.10353646e-02  3.09401804e-01]\n",
      " [-1.14711111e-02  3.13050160e-01]\n",
      " [-1.18645829e-02  3.16703323e-01]\n",
      " [-1.22211908e-02  3.20360272e-01]\n",
      " [-1.25456513e-02  3.24020217e-01]\n",
      " [-1.28420739e-02  3.27682542e-01]\n",
      " [-1.31140385e-02  3.31346767e-01]\n",
      " [-1.33646630e-02  3.35012514e-01]\n",
      " [-1.35966631e-02  3.38679488e-01]\n",
      " [-1.38124038e-02  3.42347455e-01]\n",
      " [-1.40139453e-02  3.46016231e-01]\n",
      " [-1.42088665e-02  3.49685366e-01]\n",
      " [-1.43978869e-02  3.53354809e-01]\n",
      " [-1.45810064e-02  3.57024552e-01]\n",
      " [-1.47641259e-02  3.60694295e-01]\n",
      " [-1.49472454e-02  3.64364039e-01]\n",
      " [-1.51303649e-02  3.68033782e-01]\n",
      " [-1.53134844e-02  3.71703525e-01]\n",
      " [-1.54966039e-02  3.75373268e-01]\n",
      " [-1.56738588e-02  3.79043298e-01]\n",
      " [-1.58452489e-02  3.82713608e-01]\n",
      " [-1.60166390e-02  3.86383918e-01]\n",
      " [-1.61880291e-02  3.90054227e-01]\n",
      " [-1.63594192e-02  3.93724537e-01]\n",
      " [-1.65308093e-02  3.97394847e-01]\n",
      " [-1.66963780e-02  4.01065422e-01]\n",
      " [-1.68561249e-02  4.04736257e-01]\n",
      " [-1.70158718e-02  4.08407092e-01]\n",
      " [-1.71756188e-02  4.12077927e-01]\n",
      " [-1.73353657e-02  4.15748762e-01]\n",
      " [-1.74951126e-02  4.19419597e-01]\n",
      " [-1.76489356e-02  4.23090683e-01]\n",
      " [-1.77968344e-02  4.26762015e-01]\n",
      " [-1.79447332e-02  4.30433346e-01]\n",
      " [-1.80926320e-02  4.34104678e-01]\n",
      " [-1.82405308e-02  4.37776009e-01]\n",
      " [-1.83824157e-02  4.41447576e-01]\n",
      " [-1.85182865e-02  4.45119372e-01]\n",
      " [-1.86541573e-02  4.48791169e-01]\n",
      " [-1.87900281e-02  4.52462965e-01]\n",
      " [-1.89198537e-02  4.56134978e-01]\n",
      " [-1.90436337e-02  4.59807202e-01]\n",
      " [-1.91674138e-02  4.63479425e-01]\n",
      " [-1.92852404e-02  4.67151843e-01]\n",
      " [-1.93971133e-02  4.70824449e-01]\n",
      " [-1.95089862e-02  4.74497055e-01]\n",
      " [-1.96148668e-02  4.78169837e-01]\n",
      " [-1.97147550e-02  4.81842788e-01]\n",
      " [-1.98146431e-02  4.85515739e-01]\n",
      " [-1.99083175e-02  4.89188852e-01]\n",
      " [-1.99957780e-02  4.92862120e-01]\n",
      " [-2.00770425e-02  4.96535529e-01]\n",
      " [-2.01521109e-02  5.00209071e-01]\n",
      " [-2.02208396e-02  5.03882736e-01]\n",
      " [-2.02771975e-02  5.07556611e-01]\n",
      " [-2.03275247e-02  5.11230576e-01]\n",
      " [-2.03712911e-02  5.14904622e-01]\n",
      " [-2.04019805e-02  5.18578802e-01]\n",
      " [-2.04195244e-02  5.22253067e-01]\n",
      " [-2.04195244e-02  5.22253067e-01]\n",
      " [-2.04195244e-02  5.22253067e-01]\n",
      " [-2.04195244e-02  5.22253067e-01]\n",
      " [-2.04195244e-02  5.22253067e-01]\n",
      " [-2.04195244e-02  5.22253067e-01]\n",
      " [-2.04195244e-02  5.22253067e-01]\n",
      " [-2.04195244e-02  5.22253067e-01]\n",
      " [-2.04195244e-02  5.22253067e-01]\n",
      " [-2.13101771e-02  5.25817765e-01]\n",
      " [-2.22492216e-02  5.29370024e-01]\n",
      " [-2.32364270e-02  5.32909199e-01]\n",
      " [-2.32364270e-02  5.32909199e-01]\n",
      " [-2.32364270e-02  5.32909199e-01]\n",
      " [-2.32364270e-02  5.32909199e-01]\n",
      " [-2.32364270e-02  5.32909199e-01]\n",
      " [-2.32364270e-02  5.32909199e-01]\n",
      " [-2.38341596e-02  5.36534536e-01]\n",
      " [-2.43861360e-02  5.40167126e-01]\n",
      " [-2.48969657e-02  5.43805734e-01]\n",
      " [-2.53707262e-02  5.47449358e-01]\n",
      " [-2.58110185e-02  5.51097180e-01]\n",
      " [-2.62210190e-02  5.54748533e-01]\n",
      " [-2.66035263e-02  5.58402870e-01]\n",
      " [-2.69610012e-02  5.62059742e-01]\n",
      " [-2.72956030e-02  5.65718779e-01]\n",
      " [-2.76092194e-02  5.69379675e-01]\n",
      " [-2.79034930e-02  5.73042177e-01]\n",
      " [-2.81798420e-02  5.76706076e-01]\n",
      " [-2.84394774e-02  5.80371197e-01]\n",
      " [-2.86834146e-02  5.84037397e-01]\n",
      " [-2.89124793e-02  5.87704557e-01]\n",
      " [-2.91273059e-02  5.91372579e-01]\n",
      " [-2.93283259e-02  5.95041383e-01]\n",
      " [-2.95157395e-02  5.98710907e-01]\n",
      " [-2.96894593e-02  6.02381105e-01]\n",
      " [-2.96894593e-02  6.02381105e-01]\n",
      " [-2.96894593e-02  6.02381105e-01]\n",
      " [-2.96894593e-02  6.02381105e-01]\n",
      " [-2.96894593e-02  6.02381105e-01]\n",
      " [-2.96894593e-02  6.02381105e-01]\n",
      " [-2.96894593e-02  6.02381105e-01]\n",
      " [-2.96894593e-02  6.02381105e-01]\n",
      " [-2.96894593e-02  6.02381105e-01]\n",
      " [-2.96894593e-02  6.02381105e-01]\n",
      " [-2.96894593e-02  6.02381105e-01]\n",
      " [-2.96894593e-02  6.02381105e-01]\n",
      " [-2.96894593e-02  6.02381105e-01]\n",
      " [-2.80220940e-02  6.05655283e-01]\n",
      " [-2.63127024e-02  6.08907721e-01]\n",
      " [-2.45647578e-02  6.12139608e-01]\n",
      " [-2.27812369e-02  6.15352002e-01]\n",
      " [-2.09646581e-02  6.18545820e-01]\n",
      " [-1.91171129e-02  6.21721828e-01]\n",
      " [-1.72402817e-02  6.24880619e-01]\n",
      " [-1.53354323e-02  6.28022595e-01]\n",
      " [-1.34033931e-02  6.31147925e-01]\n",
      " [-1.14444854e-02  6.34256485e-01]\n",
      " [-1.14444854e-02  6.34256485e-01]\n",
      " [-1.14444854e-02  6.34256485e-01]\n",
      " [-1.14444854e-02  6.34256485e-01]\n",
      " [-1.14444854e-02  6.34256485e-01]\n",
      " [-1.14444854e-02  6.34256485e-01]\n",
      " [-1.14444854e-02  6.34256485e-01]\n",
      " [-1.14444854e-02  6.34256485e-01]\n",
      " [-1.14444854e-02  6.34256485e-01]\n",
      " [-1.14444854e-02  6.34256485e-01]\n",
      " [-1.14444854e-02  6.34256485e-01]\n",
      " [-1.14444854e-02  6.34256485e-01]\n",
      " [-1.09999885e-02  6.37903779e-01]\n",
      " [-1.06028120e-02  6.41556536e-01]\n",
      " [-1.02466452e-02  6.45213526e-01]\n",
      " [-9.92601199e-03  6.48873806e-01]\n",
      " [-9.63616378e-03  6.52536656e-01]\n",
      " [-9.37298511e-03  6.56201520e-01]\n",
      " [-9.13291023e-03  6.59867973e-01]\n",
      " [-8.91285042e-03  6.63535682e-01]\n",
      " [-8.71013050e-03  6.67204392e-01]\n",
      " [-8.52243368e-03  6.70873902e-01]\n",
      " [-8.34775362e-03  6.74544055e-01]\n",
      " [-8.17911650e-03  6.78214492e-01]\n",
      " [-8.01047938e-03  6.81884930e-01]\n",
      " [-7.84184226e-03  6.85555367e-01]\n",
      " [-7.67320514e-03  6.89225804e-01]\n",
      " [-7.50456802e-03  6.92896241e-01]\n",
      " [-7.33593090e-03  6.96566679e-01]\n",
      " [-7.16729378e-03  7.00237116e-01]\n",
      " [-6.99865666e-03  7.03907553e-01]\n",
      " [-6.83001954e-03  7.07577991e-01]\n",
      " [-6.66722563e-03  7.11248690e-01]\n",
      " [-6.51027522e-03  7.14919646e-01]\n",
      " [-6.35332480e-03  7.18590601e-01]\n",
      " [-6.19637439e-03  7.22261557e-01]\n",
      " [-6.03942398e-03  7.25932512e-01]\n",
      " [-5.88247356e-03  7.29603468e-01]\n",
      " [-5.72552315e-03  7.33274424e-01]\n",
      " [-5.56857273e-03  7.36945379e-01]\n",
      " [-5.41162232e-03  7.40616335e-01]\n",
      " [-5.25467190e-03  7.44287290e-01]\n",
      " [-5.09772149e-03  7.47958246e-01]\n",
      " [-4.94660021e-03  7.51629445e-01]\n",
      " [-4.80130833e-03  7.55300880e-01]\n",
      " [-4.65601644e-03  7.58972316e-01]\n",
      " [-4.51072455e-03  7.62643751e-01]\n",
      " [-4.36543267e-03  7.66315187e-01]\n",
      " [-4.22014078e-03  7.69986622e-01]\n",
      " [-4.07484889e-03  7.73658057e-01]\n",
      " [-3.92955701e-03  7.77329493e-01]\n",
      " [-3.78426512e-03  7.81000928e-01]\n",
      " [-3.63897324e-03  7.84672364e-01]\n",
      " [-3.49955570e-03  7.88344026e-01]\n",
      " [-3.36601274e-03  7.92015907e-01]\n",
      " [-3.23246979e-03  7.95687789e-01]\n",
      " [-3.09892684e-03  7.99359671e-01]\n",
      " [-2.96538388e-03  8.03031552e-01]\n",
      " [-2.83184093e-03  8.06703434e-01]\n",
      " [-2.69829798e-03  8.10375315e-01]\n",
      " [-2.56475502e-03  8.14047197e-01]\n",
      " [-2.43707405e-03  8.17719286e-01]\n",
      " [-2.31525528e-03  8.21391575e-01]\n",
      " [-2.19343651e-03  8.25063864e-01]\n",
      " [-2.07161774e-03  8.28736153e-01]\n",
      " [-1.94979897e-03  8.32408443e-01]\n",
      " [-1.82798020e-03  8.36080732e-01]\n",
      " [-1.70616143e-03  8.39753021e-01]\n",
      " [-1.59021371e-03  8.43425499e-01]\n",
      " [-1.48013722e-03  8.47098159e-01]\n",
      " [-1.37006074e-03  8.50770819e-01]\n",
      " [-1.25998425e-03  8.54443479e-01]\n",
      " [-1.14990777e-03  8.58116139e-01]\n",
      " [-1.03983128e-03  8.61788799e-01]\n",
      " [-9.35640099e-04  8.65461629e-01]\n",
      " [-8.37334393e-04  8.69134623e-01]\n",
      " [-7.39028687e-04  8.72807617e-01]\n",
      " [-6.40722982e-04  8.76480611e-01]\n",
      " [-5.42417276e-04  8.80153605e-01]\n",
      " [-4.49989623e-04  8.83826750e-01]\n",
      " [-3.63440182e-04  8.87500039e-01]\n",
      " [-2.76890740e-04  8.91173329e-01]\n",
      " [-1.90341299e-04  8.94846619e-01]\n",
      " [-1.03791857e-04  8.98519909e-01]\n",
      " [-2.32816013e-05  9.02193334e-01]\n",
      " [ 5.11893238e-05  9.05866889e-01]\n",
      " [ 1.25660249e-04  9.09540443e-01]\n",
      " [ 1.94247842e-04  9.13214110e-01]\n",
      " [ 2.56951987e-04  9.16887885e-01]\n",
      " [ 3.19656131e-04  9.20561659e-01]\n",
      " [ 3.76518795e-04  9.24235526e-01]\n",
      " [ 4.27539883e-04  9.27909481e-01]\n",
      " [ 4.78560970e-04  9.31583436e-01]\n",
      " [ 5.23631363e-04  9.35257468e-01]\n",
      " [ 5.62750981e-04  9.38931568e-01]\n",
      " [ 5.96028535e-04  9.42605725e-01]\n",
      " [ 6.23463969e-04  9.46279932e-01]\n",
      " [ 6.45040738e-04  9.49954177e-01]\n",
      " [ 6.60758807e-04  9.53628452e-01]\n",
      " [ 6.70427595e-04  9.57302747e-01]\n",
      " [ 6.74047082e-04  9.60977054e-01]\n",
      " [ 6.71149147e-04  9.64651361e-01]\n",
      " [ 6.55297214e-04  9.68325634e-01]]\n"
     ]
    },
    {
     "data": {
      "text/plain": [
       "(150.0, 250.0)"
      ]
     },
     "execution_count": 76,
     "metadata": {},
     "output_type": "execute_result"
    },
    {
     "data": {
      "image/png": "[encoded data removed]",
      "text/plain": [
       "<Figure size 640x480 with 1 Axes>"
      ]
     },
     "metadata": {},
     "output_type": "display_data"
    }
   ],
   "source": [
    "positions2 = np.array(positions)\n",
    "positions2 = world_to_map(positions2,step_size,map_size)\n",
    "plt.imshow(Map, cmap=\"binary\")\n",
    "plt.scatter(positions2[:,1],positions2[:,0],color=\"g\",s=1)\n",
    "plt.scatter(path[:,1],path[:,0],color=\"orange\",s=1)\n",
    "plt.xlim(200, 300)\n",
    "plt.ylim(150, 250)\n"
   ]
  },
  {
   "cell_type": "code",
   "execution_count": null,
   "metadata": {},
   "outputs": [],
   "source": []
  },
  {
   "cell_type": "code",
   "execution_count": null,
   "metadata": {},
   "outputs": [],
   "source": []
  },
  {
   "cell_type": "markdown",
   "metadata": {},
   "source": [
    "**Task:** Implement a path following function for the simulated robot. \n",
    "\n",
    "**Note:** Depending on how you are implementing it, it might make sense to reuse your *drive_to_point* function from notebook 6."
   ]
  },
  {
   "cell_type": "code",
   "execution_count": 77,
   "metadata": {},
   "outputs": [],
   "source": [
    "### Your code here ###\n",
    "\n",
    "###"
   ]
  },
  {
   "cell_type": "markdown",
   "metadata": {},
   "source": [
    "**Task:** Simulate the robot following the path from the tasks above."
   ]
  },
  {
   "cell_type": "code",
   "execution_count": 78,
   "metadata": {},
   "outputs": [],
   "source": [
    "### Your code here ###\n",
    "\n",
    "###"
   ]
  },
  {
   "cell_type": "markdown",
   "metadata": {},
   "source": [
    "**Task:** Visualise the path the simulated robot took and compare it to the optimal path returned by your path planning algorithm."
   ]
  },
  {
   "cell_type": "code",
   "execution_count": 79,
   "metadata": {},
   "outputs": [],
   "source": [
    "### Your code here ###\n",
    "\n",
    "###"
   ]
  },
  {
   "cell_type": "markdown",
   "metadata": {},
   "source": [
    "## Sequential Tasks and Scheduling"
   ]
  },
  {
   "cell_type": "markdown",
   "metadata": {},
   "source": [
    "Now we want to put everything together, and use it to make the robot plan and execute a sequence of tasks. Look at the sequence diagram below. The robot has four tasks it has to complete. *Task 2* and *task 3* depend on *task 1*, meaning that before it can start with *task 2* or *task 3*, *task 1* has to be completed. Similarly, *task 4* depends on *task 2* and *task 3*, but they don't have to be completed in any specific order."
   ]
  },
  {
   "attachments": {
    "a751d52e-0a64-43f8-991f-8feb8a53154a.png": {
     "image/png": "[encoded data removed]"
    }
   },
   "cell_type": "markdown",
   "metadata": {},
   "source": [
    "![tasks.png](attachment:a751d52e-0a64-43f8-991f-8feb8a53154a.png)"
   ]
  },
  {
   "cell_type": "markdown",
   "metadata": {},
   "source": [
    "To simplify everything a bit, we assume that driving close enough to the location of the task means the robot has completed it.\n",
    "\n",
    "**Task:** Implement a task representation in the *Task* class below. It should contain a location, id, and a list of dependencies, meaning tasks that have to be completed before the robot can start this task."
   ]
  },
  {
   "cell_type": "code",
   "execution_count": 120,
   "metadata": {},
   "outputs": [],
   "source": [
    "### Your code here ###\n",
    "class Task:\n",
    "    def __init__(self, id, loc, dependencies):\n",
    "        self.id = id\n",
    "        self.loc = loc\n",
    "        self.dependencies = dependencies\n",
    "\n",
    "        self.completed = False\n",
    "    \n",
    "    def can_start(self):       \n",
    "        for task in self.dependencies:\n",
    "            if not task.completed:\n",
    "                return False\n",
    "            \n",
    "        return True\n",
    "###"
   ]
  },
  {
   "cell_type": "markdown",
   "metadata": {},
   "source": [
    "**Task:** Create task objects for the following tasks:\n",
    "- Task 1:\n",
    "  - x: 0.2\n",
    "  - y: 0.25\n",
    "  - dependencies: none\n",
    "- Task 2:\n",
    "  - x: 0.5\n",
    "  - y: -0.45\n",
    "  - dependencies: Task 1\n",
    "- Task 3:\n",
    "  - x: 0.75\n",
    "  - y: 0.5\n",
    "  - dependencies: Task 1\n",
    "- Task 4:\n",
    "  - x: -0.6\n",
    "  - y: -0.6\n",
    "  - dependencies: Task 2 and Task 3"
   ]
  },
  {
   "cell_type": "code",
   "execution_count": 142,
   "metadata": {},
   "outputs": [],
   "source": [
    "### Your code here ###\n",
    "task1 = Task(1, (0.2, 0.25), [])\n",
    "task2 = Task(2, (0.5, -0.45), [task1])\n",
    "task3 = Task(3, (0.75, 0.5), [task1])\n",
    "task4 = Task(4, (-0.6, -0.6), [task1, task2])\n",
    "###"
   ]
  },
  {
   "cell_type": "markdown",
   "metadata": {},
   "source": [
    "**Task:** Set up all necessary parameters for your path following algorithm (PID controller parameters etc.)"
   ]
  },
  {
   "cell_type": "code",
   "execution_count": 143,
   "metadata": {},
   "outputs": [],
   "source": [
    "### Your code here ###\n",
    "positions = []\n",
    "\n",
    "def do_tasks(tasks):\n",
    "    count = 0\n",
    "    \n",
    "    while count < len(tasks):\n",
    "        doable = []\n",
    "        for task in tasks:\n",
    "            if task.can_start() and not task.completed:\n",
    "                doable.append(task)\n",
    "                print(task.id)\n",
    "        min_idx = 0\n",
    "        min_dist = np.inf\n",
    "\n",
    "        for i, task in enumerate(doable):\n",
    "            dx = task.loc[0] - robot.x\n",
    "            dy = task.loc[1] - robot.y\n",
    "            dist = np.hypot(dx, dy)\n",
    "            \n",
    "            if dist < min_dist:\n",
    "                min_dist = dist\n",
    "                min_idx = i\n",
    "        \n",
    "            \n",
    "        next_coords = np.array(doable[min_idx].loc,dtype=float)\n",
    "        next_coords_map = world_to_map(next_coords, step_size, map_size)\n",
    "        rpos = np.array((robot.x,robot.y), dtype=float)\n",
    "        \n",
    "        rpos_map = world_to_map(rpos, step_size, map_size)\n",
    "\n",
    "\n",
    "        path = find_path(Map,rpos_map,next_coords_map)\n",
    "        rpath = robot_path(path,step_size,map_size)\n",
    "        follow_path(rpath)\n",
    "        print(f\"pos: {rpos}\")\n",
    "        doable[min_idx].completed = True\n",
    "        count += 1\n",
    "###"
   ]
  },
  {
   "cell_type": "markdown",
   "metadata": {},
   "source": [
    "Next, we initialise our simulated robot at starting position (0,0)."
   ]
  },
  {
   "cell_type": "code",
   "execution_count": 144,
   "metadata": {},
   "outputs": [
    {
     "data": {
      "text/html": [
       "<pre style=\"white-space:pre;overflow-x:auto;line-height:normal;font-family:Menlo,'DejaVu Sans Mono',consolas,'Courier New',monospace\">config:\n",
       "<span style=\"font-weight: bold\">{</span>\n",
       "    <span style=\"color: #008000; text-decoration-color: #008000\">'robot'</span>: <span style=\"font-weight: bold\">{</span><span style=\"color: #008000; text-decoration-color: #008000\">'wheel_radius'</span>: <span style=\"color: #008080; text-decoration-color: #008080; font-weight: bold\">0.027216</span>, <span style=\"color: #008000; text-decoration-color: #008000\">'width'</span>: <span style=\"color: #008080; text-decoration-color: #008080; font-weight: bold\">0.15</span>, <span style=\"color: #008000; text-decoration-color: #008000\">'delta_t'</span>: <span style=\"color: #008080; text-decoration-color: #008080; font-weight: bold\">0.15</span><span style=\"font-weight: bold\">}</span>,\n",
       "    <span style=\"color: #008000; text-decoration-color: #008000\">'camera'</span>: <span style=\"font-weight: bold\">{</span><span style=\"color: #008000; text-decoration-color: #008000\">'y_offset'</span>: <span style=\"color: #008080; text-decoration-color: #008080; font-weight: bold\">0.0</span>, <span style=\"color: #008000; text-decoration-color: #008000\">'z_offset'</span>: <span style=\"color: #008080; text-decoration-color: #008080; font-weight: bold\">0.273</span>, <span style=\"color: #008000; text-decoration-color: #008000\">'x_angle'</span>: <span style=\"color: #008080; text-decoration-color: #008080; font-weight: bold\">-126.5</span>, <span style=\"color: #008000; text-decoration-color: #008000\">'exposure_time'</span>: <span style=\"color: #008080; text-decoration-color: #008080; font-weight: bold\">80</span>, <span style=\"color: #008000; text-decoration-color: #008000\">'gain'</span>: <span style=\"color: #008080; text-decoration-color: #008080; font-weight: bold\">50</span><span style=\"font-weight: bold\">}</span>,\n",
       "    <span style=\"color: #008000; text-decoration-color: #008000\">'ekf_slam'</span>: <span style=\"font-weight: bold\">{</span><span style=\"color: #008000; text-decoration-color: #008000\">'robot_width'</span>: <span style=\"color: #008080; text-decoration-color: #008080; font-weight: bold\">0.15</span>, <span style=\"color: #008000; text-decoration-color: #008000\">'motor_std'</span>: <span style=\"color: #008080; text-decoration-color: #008080; font-weight: bold\">4</span>, <span style=\"color: #008000; text-decoration-color: #008000\">'dist_std'</span>: <span style=\"color: #008080; text-decoration-color: #008080; font-weight: bold\">0.1</span>, <span style=\"color: #008000; text-decoration-color: #008000\">'angle_std'</span>: <span style=\"color: #008080; text-decoration-color: #008080; font-weight: bold\">4</span><span style=\"font-weight: bold\">}</span>,\n",
       "    <span style=\"color: #008000; text-decoration-color: #008000\">'pid_controller'</span>: <span style=\"font-weight: bold\">{</span><span style=\"color: #008000; text-decoration-color: #008000\">'P'</span>: <span style=\"color: #008080; text-decoration-color: #008080; font-weight: bold\">100</span>, <span style=\"color: #008000; text-decoration-color: #008000\">'I'</span>: <span style=\"color: #008080; text-decoration-color: #008080; font-weight: bold\">0</span>, <span style=\"color: #008000; text-decoration-color: #008000\">'D'</span>: <span style=\"color: #008080; text-decoration-color: #008080; font-weight: bold\">0</span><span style=\"font-weight: bold\">}</span>\n",
       "<span style=\"font-weight: bold\">}</span>\n",
       "</pre>\n"
      ],
      "text/plain": [
       "config:\n",
       "\u001b[1m{\u001b[0m\n",
       "    \u001b[32m'robot'\u001b[0m: \u001b[1m{\u001b[0m\u001b[32m'wheel_radius'\u001b[0m: \u001b[1;36m0.027216\u001b[0m, \u001b[32m'width'\u001b[0m: \u001b[1;36m0.15\u001b[0m, \u001b[32m'delta_t'\u001b[0m: \u001b[1;36m0.15\u001b[0m\u001b[1m}\u001b[0m,\n",
       "    \u001b[32m'camera'\u001b[0m: \u001b[1m{\u001b[0m\u001b[32m'y_offset'\u001b[0m: \u001b[1;36m0.0\u001b[0m, \u001b[32m'z_offset'\u001b[0m: \u001b[1;36m0.273\u001b[0m, \u001b[32m'x_angle'\u001b[0m: \u001b[1;36m-126.5\u001b[0m, \u001b[32m'exposure_time'\u001b[0m: \u001b[1;36m80\u001b[0m, \u001b[32m'gain'\u001b[0m: \u001b[1;36m50\u001b[0m\u001b[1m}\u001b[0m,\n",
       "    \u001b[32m'ekf_slam'\u001b[0m: \u001b[1m{\u001b[0m\u001b[32m'robot_width'\u001b[0m: \u001b[1;36m0.15\u001b[0m, \u001b[32m'motor_std'\u001b[0m: \u001b[1;36m4\u001b[0m, \u001b[32m'dist_std'\u001b[0m: \u001b[1;36m0.1\u001b[0m, \u001b[32m'angle_std'\u001b[0m: \u001b[1;36m4\u001b[0m\u001b[1m}\u001b[0m,\n",
       "    \u001b[32m'pid_controller'\u001b[0m: \u001b[1m{\u001b[0m\u001b[32m'P'\u001b[0m: \u001b[1;36m100\u001b[0m, \u001b[32m'I'\u001b[0m: \u001b[1;36m0\u001b[0m, \u001b[32m'D'\u001b[0m: \u001b[1;36m0\u001b[0m\u001b[1m}\u001b[0m\n",
       "\u001b[1m}\u001b[0m\n"
      ]
     },
     "metadata": {},
     "output_type": "display_data"
    }
   ],
   "source": [
    "config = load_config(\"../config.yaml\")\n",
    "start_x = 0.0\n",
    "start_y = 0.0\n",
    "start_theta = 0\n",
    "robot = DummyVehicle(start_x, start_y, start_theta, config.robot.wheel_radius, config.robot.width, 0.01, 0.01, np.pi/4)\n",
    "# init slam\n",
    "slam = EKFSLAM(\n",
    "        config.robot.wheel_radius,\n",
    "        config.ekf_slam.robot_width,\n",
    "        MOTOR_STD=config.ekf_slam.motor_std,\n",
    "        DIST_STD=config.ekf_slam.dist_std,\n",
    "        ANGLE_STD=config.ekf_slam.angle_std,\n",
    "        init_state = np.array([robot.x, robot.y, robot.theta])\n",
    "    )"
   ]
  },
  {
   "cell_type": "markdown",
   "metadata": {},
   "source": [
    "**Task:** Implement an algorithm that lets the robot perform tasks 1-4 in a viable order. When it has completed one task, it should always start the closest viable task next, thereby minimising the overall distance it has to move. Visualise the path your robot takes on the map.\n",
    "\n",
    "**Note:** Remember that the robot should still keep sufficient distance to the markers."
   ]
  },
  {
   "cell_type": "code",
   "execution_count": 145,
   "metadata": {},
   "outputs": [
    {
     "name": "stdout",
     "output_type": "stream",
     "text": [
      "1\n"
     ]
    },
    {
     "data": {
      "text/html": [
       "<pre style=\"white-space:pre;overflow-x:auto;line-height:normal;font-family:Menlo,'DejaVu Sans Mono',consolas,'Courier New',monospace\"><span style=\"color: #008080; text-decoration-color: #008080; font-weight: bold\">50</span> <span style=\"color: #008080; text-decoration-color: #008080; font-weight: bold\">0.01</span> <span style=\"color: #008080; text-decoration-color: #008080; font-weight: bold\">0.02</span>\n",
       "</pre>\n"
      ],
      "text/plain": [
       "\u001b[1;36m50\u001b[0m \u001b[1;36m0.01\u001b[0m \u001b[1;36m0.02\u001b[0m\n"
      ]
     },
     "metadata": {},
     "output_type": "display_data"
    },
    {
     "name": "stdout",
     "output_type": "stream",
     "text": [
      "pos: [0. 0.]\n",
      "2\n",
      "3\n"
     ]
    },
    {
     "data": {
      "text/html": [
       "<pre style=\"white-space:pre;overflow-x:auto;line-height:normal;font-family:Menlo,'DejaVu Sans Mono',consolas,'Courier New',monospace\"><span style=\"color: #008080; text-decoration-color: #008080; font-weight: bold\">50</span> <span style=\"color: #008080; text-decoration-color: #008080; font-weight: bold\">0.01</span> <span style=\"color: #008080; text-decoration-color: #008080; font-weight: bold\">0.02</span>\n",
       "</pre>\n"
      ],
      "text/plain": [
       "\u001b[1;36m50\u001b[0m \u001b[1;36m0.01\u001b[0m \u001b[1;36m0.02\u001b[0m\n"
      ]
     },
     "metadata": {},
     "output_type": "display_data"
    },
    {
     "name": "stdout",
     "output_type": "stream",
     "text": [
      "pos: [0.19794747 0.23286902]\n",
      "2\n"
     ]
    },
    {
     "data": {
      "text/html": [
       "<pre style=\"white-space:pre;overflow-x:auto;line-height:normal;font-family:Menlo,'DejaVu Sans Mono',consolas,'Courier New',monospace\"><span style=\"color: #008080; text-decoration-color: #008080; font-weight: bold\">50</span> <span style=\"color: #008080; text-decoration-color: #008080; font-weight: bold\">0.01</span> <span style=\"color: #008080; text-decoration-color: #008080; font-weight: bold\">0.02</span>\n",
       "</pre>\n"
      ],
      "text/plain": [
       "\u001b[1;36m50\u001b[0m \u001b[1;36m0.01\u001b[0m \u001b[1;36m0.02\u001b[0m\n"
      ]
     },
     "metadata": {},
     "output_type": "display_data"
    },
    {
     "name": "stdout",
     "output_type": "stream",
     "text": [
      "pos: [0.73183319 0.50043   ]\n",
      "4\n"
     ]
    },
    {
     "data": {
      "text/html": [
       "<pre style=\"white-space:pre;overflow-x:auto;line-height:normal;font-family:Menlo,'DejaVu Sans Mono',consolas,'Courier New',monospace\"><span style=\"color: #008080; text-decoration-color: #008080; font-weight: bold\">50</span> <span style=\"color: #008080; text-decoration-color: #008080; font-weight: bold\">0.01</span> <span style=\"color: #008080; text-decoration-color: #008080; font-weight: bold\">0.02</span>\n",
       "</pre>\n"
      ],
      "text/plain": [
       "\u001b[1;36m50\u001b[0m \u001b[1;36m0.01\u001b[0m \u001b[1;36m0.02\u001b[0m\n"
      ]
     },
     "metadata": {},
     "output_type": "display_data"
    },
    {
     "name": "stdout",
     "output_type": "stream",
     "text": [
      "pos: [ 0.49881493 -0.43045812]\n"
     ]
    }
   ],
   "source": [
    "### Your code here ###\n",
    "\n",
    "tasks = [task1,task2,task3,task4]\n",
    "do_tasks(tasks)\n",
    "### "
   ]
  },
  {
   "cell_type": "code",
   "execution_count": 154,
   "metadata": {},
   "outputs": [
    {
     "data": {
      "image/png": "[encoded data removed]",
      "text/plain": [
       "<Figure size 640x480 with 1 Axes>"
      ]
     },
     "metadata": {},
     "output_type": "display_data"
    }
   ],
   "source": [
    "pos_robot = world_to_map(np.array(positions, dtype=float), step_size, map_size)\n",
    "plt.plot(pos_robot[:,1],pos_robot[:,0])\n",
    "plt.imshow(Map)\n",
    "plt.xlim(50, 300)\n",
    "plt.ylim(50, 300)\n",
    "for task in tasks:\n",
    "    task_loc = world_to_map(np.array(task.loc, dtype=float), step_size, map_size)\n",
    "    plt.scatter(task_loc[1], task_loc[0], color='orange')"
   ]
  },
  {
   "cell_type": "code",
   "execution_count": null,
   "metadata": {},
   "outputs": [],
   "source": []
  },
  {
   "cell_type": "code",
   "execution_count": null,
   "metadata": {},
   "outputs": [],
   "source": []
  }
 ],
 "metadata": {
  "kernelspec": {
   "display_name": ".ev3-venv",
   "language": "python",
   "name": "python3"
  },
  "language_info": {
   "codemirror_mode": {
    "name": "ipython",
    "version": 3
   },
   "file_extension": ".py",
   "mimetype": "text/x-python",
   "name": "python",
   "nbconvert_exporter": "python",
   "pygments_lexer": "ipython3",
   "version": "3.11.2"
  }
 },
 "nbformat": 4,
 "nbformat_minor": 4
}
